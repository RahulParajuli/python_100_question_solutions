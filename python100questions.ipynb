{
  "nbformat": 4,
  "nbformat_minor": 0,
  "metadata": {
    "colab": {
      "name": "python100questions.ipynb",
      "provenance": [],
      "collapsed_sections": [],
      "authorship_tag": "ABX9TyNJohq756QQtjU+jZrnEy6y",
      "include_colab_link": true
    },
    "kernelspec": {
      "name": "python3",
      "display_name": "Python 3"
    },
    "language_info": {
      "name": "python"
    }
  },
  "cells": [
    {
      "cell_type": "markdown",
      "metadata": {
        "id": "view-in-github",
        "colab_type": "text"
      },
      "source": [
        "<a href=\"https://colab.research.google.com/github/RahulParajuli/python_100_question_solutions/blob/main/python100questions.ipynb\" target=\"_parent\"><img src=\"https://colab.research.google.com/assets/colab-badge.svg\" alt=\"Open In Colab\"/></a>"
      ]
    },
    {
      "cell_type": "markdown",
      "source": [
        "1. User will input number. Find the biggest one"
      ],
      "metadata": {
        "id": "e4c6UPQTlU-o"
      }
    },
    {
      "cell_type": "code",
      "execution_count": null,
      "metadata": {
        "colab": {
          "base_uri": "https://localhost:8080/"
        },
        "id": "DT4qQ7m1hddA",
        "outputId": "a3502cad-ad34-44b6-ae72-4fcb838134ee"
      },
      "outputs": [
        {
          "output_type": "stream",
          "name": "stdout",
          "text": [
            "enter the first age: 3\n",
            "enter second age: 4\n",
            "enter 3rd age: 5\n",
            "c is greatest\n"
          ]
        }
      ],
      "source": [
        "a = int(input(\"enter the first age: \"))\n",
        "b = int(input(\"enter second age: \"))\n",
        "c = int(input(\"enter 3rd age: \"))\n",
        "\n",
        "if a>b and a>c:\n",
        "  print(\"a is greatest\")\n",
        "elif b>a and b>c:\n",
        "  print(\"b is greatest\")\n",
        "else:\n",
        "  print(\"c is greatest\")"
      ]
    },
    {
      "cell_type": "markdown",
      "source": [
        "2. Write a program that will convert celsius value to fahrenheit"
      ],
      "metadata": {
        "id": "f0HQTvTgliGY"
      }
    },
    {
      "cell_type": "code",
      "source": [
        "celcius = int(input(\"enter the celcius\"))\n",
        "\n",
        "farhenheit = (celcius * 9/5) + 32\n",
        "print(\"farenheit of the celcuis is : \",farhenheit)"
      ],
      "metadata": {
        "colab": {
          "base_uri": "https://localhost:8080/"
        },
        "id": "Bi6SLcf1iA-f",
        "outputId": "5eaeeea4-e9cc-447a-8ae5-5c62dd1c9f67"
      },
      "execution_count": null,
      "outputs": [
        {
          "output_type": "stream",
          "name": "stdout",
          "text": [
            "enter the celcius45\n",
            "farenheit of the celcuis is :  113.0\n"
          ]
        }
      ]
    },
    {
      "cell_type": "markdown",
      "source": [
        "3. User will input (2numbers).Write a program to swap the numbers"
      ],
      "metadata": {
        "id": "5qY6AP6UlqfQ"
      }
    },
    {
      "cell_type": "code",
      "source": [
        "a = int(input(\"enter first number: \"))\n",
        "b = int(input(\"enter second number: \"))\n",
        "\n",
        "print(\"the initial number is: \",a,b)\n",
        "\n",
        "temp = a\n",
        "a = b\n",
        "b = temp\n",
        "\n",
        "print(\"the final number after swap is: \", a,b)"
      ],
      "metadata": {
        "colab": {
          "base_uri": "https://localhost:8080/"
        },
        "id": "9uPX0hRtifzD",
        "outputId": "da16a255-ac84-4328-81eb-b71cac8cc6d8"
      },
      "execution_count": null,
      "outputs": [
        {
          "output_type": "stream",
          "name": "stdout",
          "text": [
            "enter first number: 2\n",
            "enter second number: 3\n",
            "the initial number is:  2 3\n",
            "the final number after swap is:  3 2\n"
          ]
        }
      ]
    },
    {
      "cell_type": "markdown",
      "source": [
        "4. Write a program that will reverse a four digit number.Also it checks whether the reverse is true."
      ],
      "metadata": {
        "id": "5EOpTRZWl6hQ"
      }
    },
    {
      "cell_type": "code",
      "source": [
        "num = 1234\n",
        "reversed_num = 0\n",
        "\n",
        "while num != 0:\n",
        "    digit = num % 10\n",
        "    reversed_num = reversed_num * 10 + digit\n",
        "    num //= 10\n",
        "\n",
        "print(\"Reversed Number: \" + str(reversed_num))"
      ],
      "metadata": {
        "colab": {
          "base_uri": "https://localhost:8080/"
        },
        "id": "FZ3jyAo6jUG2",
        "outputId": "2b8161c0-4a80-49e7-83ae-d6088b5f390d"
      },
      "execution_count": null,
      "outputs": [
        {
          "output_type": "stream",
          "name": "stdout",
          "text": [
            "Reversed Number: 4321\n"
          ]
        }
      ]
    },
    {
      "cell_type": "markdown",
      "source": [
        "5. Write a program that will give you the sum of 3 digits"
      ],
      "metadata": {
        "id": "B49-ar7PmTKJ"
      }
    },
    {
      "cell_type": "code",
      "source": [
        "a = int(input(\"enter first number: \"))\n",
        "b = int(input(\"enter second number: \"))\n",
        "c = int(input(\"enter third number: \"))\n",
        "\n",
        "print(a+b+c)"
      ],
      "metadata": {
        "colab": {
          "base_uri": "https://localhost:8080/"
        },
        "id": "lQUe4L_gkbR2",
        "outputId": "80630a44-c959-4fb0-b4f3-7a6309783163"
      },
      "execution_count": null,
      "outputs": [
        {
          "output_type": "stream",
          "name": "stdout",
          "text": [
            "enter first number: 2\n",
            "enter second number: 2\n",
            "enter third number: 2\n",
            "6\n"
          ]
        }
      ]
    },
    {
      "cell_type": "markdown",
      "source": [
        "6. Write a program that will tell whether the number entered by the user is odd or even."
      ],
      "metadata": {
        "id": "wACcLVUZmscG"
      }
    },
    {
      "cell_type": "code",
      "source": [
        "num = int(input(\"enter a number: \"))\n",
        "\n",
        "if num%2==0:\n",
        "  print(\"the number is even\", num)\n",
        "else:\n",
        "  print(\"the number is odd\", num)"
      ],
      "metadata": {
        "colab": {
          "base_uri": "https://localhost:8080/"
        },
        "id": "uJmdfIAImfc3",
        "outputId": "9d5ecda8-f178-41f1-b57a-b26901497388"
      },
      "execution_count": null,
      "outputs": [
        {
          "output_type": "stream",
          "name": "stdout",
          "text": [
            "enter a number: 4\n",
            "the number is even 4\n"
          ]
        }
      ]
    },
    {
      "cell_type": "markdown",
      "source": [
        "7. Write a program that will tell whether the given year is a leap year or not."
      ],
      "metadata": {
        "id": "VXsJ-XaGm_Ie"
      }
    },
    {
      "cell_type": "code",
      "source": [
        "year = int(input(\"enter a year: \"))\n",
        "\n",
        "if year%400 == 0 | year%100==0 | year%4==0:\n",
        "    print(\"it is leap year\")\n",
        "else:\n",
        "  print(\"it is not a leap year\")"
      ],
      "metadata": {
        "colab": {
          "base_uri": "https://localhost:8080/"
        },
        "id": "UYkpDktHm7kG",
        "outputId": "af747db5-7570-4ba5-94bc-6fd26c7fbc3d"
      },
      "execution_count": null,
      "outputs": [
        {
          "output_type": "stream",
          "name": "stdout",
          "text": [
            "enter a year: 2022\n",
            "it is not a leap year\n"
          ]
        }
      ]
    },
    {
      "cell_type": "markdown",
      "source": [
        "8. Write a program to find the euclidean distance between two coordinates."
      ],
      "metadata": {
        "id": "Dq-HEWoVnsTu"
      }
    },
    {
      "cell_type": "code",
      "source": [
        "import math"
      ],
      "metadata": {
        "id": "3iZl4yW4noW5"
      },
      "execution_count": null,
      "outputs": []
    },
    {
      "cell_type": "code",
      "source": [
        "x1 = int(input(\"enter first point coordinate as x1: \"))\n",
        "x2 = int(input(\"enter first point coordinate as x2: \"))\n",
        "y1 = int(input(\"enter second point coordinate as y1: \"))\n",
        "y2 = int(input(\"enter second point coordinate as y2: \"))\n",
        "\n",
        "euclidean = (((x2-x1)**2)+((y2-y1)**2))\n",
        "\n",
        "ecd= math.sqrt(euclidean)\n",
        "print(\"the euclidean distance is: \", euclidean)\n"
      ],
      "metadata": {
        "id": "a9MPtyKHqU1w",
        "colab": {
          "base_uri": "https://localhost:8080/"
        },
        "outputId": "1596cbe2-eb6e-4c8d-f9e9-389e7814a097"
      },
      "execution_count": null,
      "outputs": [
        {
          "output_type": "stream",
          "name": "stdout",
          "text": [
            "enter first point coordinate as x1: 45\n",
            "enter first point coordinate as x2: 32\n",
            "enter second point coordinate as y1: 56\n",
            "enter second point coordinate as y2: 12\n",
            "the euclidean distance is:  2105\n"
          ]
        }
      ]
    },
    {
      "cell_type": "markdown",
      "source": [
        "Write a program that take a user input of three angles and will find out whether it can form a triangle or not."
      ],
      "metadata": {
        "id": "Kd7sVkPdvhh1"
      }
    },
    {
      "cell_type": "code",
      "source": [
        "# triangle theorem = two of the three sides addition should be greater than itself\n",
        "\n",
        "def triangle(a, b, c):\n",
        "  if a+b >c and b+c >a and c+a> b:\n",
        "    print(\"it is a triangle\")\n",
        "  else:\n",
        "    print(\"it is not a triangle\")\n",
        "  return\n",
        "\n",
        "side1 = int(input(\"enter first angle: \"))\n",
        "side2 = int(input(\"enter second angle: \"))\n",
        "side3 = int(input(\"enter third angle: \"))\n",
        "triangle(side1,side2,side3)"
      ],
      "metadata": {
        "colab": {
          "base_uri": "https://localhost:8080/"
        },
        "id": "r4KbVWwqswdZ",
        "outputId": "0fe032e2-93bc-4997-d7a8-342051c0bcfd"
      },
      "execution_count": null,
      "outputs": [
        {
          "output_type": "stream",
          "name": "stdout",
          "text": [
            "enter first angle: 45\n",
            "enter second angle: 45\n",
            "enter third angle: 45\n",
            "it is a triangle\n"
          ]
        }
      ]
    },
    {
      "cell_type": "markdown",
      "source": [
        "Write a program that will take user input of cost price and selling price and determines whether its a loss or a profit"
      ],
      "metadata": {
        "id": "En3lymBWxdfE"
      }
    },
    {
      "cell_type": "code",
      "source": [
        "def sales(cost, sell):\n",
        "  if cost > sell:\n",
        "    loss = cost - sell\n",
        "    print(\"it is loss with: \", loss)\n",
        "  elif sell > cost:\n",
        "    profit = sell - cost\n",
        "    print(\"it is profit with: \", profit)\n",
        "  return\n",
        "\n",
        "cost = int(input(\"enter cost amount: \"))\n",
        "sell = int(input(\"enter sell amount: \"))\n",
        "sales(cost,sell)"
      ],
      "metadata": {
        "colab": {
          "base_uri": "https://localhost:8080/"
        },
        "id": "zfodTlvFw-Ob",
        "outputId": "ceb8cfb2-d029-4a90-dddd-e20ad3ab88bd"
      },
      "execution_count": null,
      "outputs": [
        {
          "output_type": "stream",
          "name": "stdout",
          "text": [
            "enter cost amount: 200\n",
            "enter sell amount: 150\n",
            "it is loss with:  50\n"
          ]
        }
      ]
    },
    {
      "cell_type": "markdown",
      "source": [
        "Write a program to find the simple interest when the value of principle,rate of interest and time period is given."
      ],
      "metadata": {
        "id": "_FOKELuAyca0"
      }
    },
    {
      "cell_type": "code",
      "source": [
        "def interest(principle, rate, time):\n",
        "  i = (principle * rate * time)/100\n",
        "  print(\"intrest of the given input is: \", i)\n",
        "  return\n",
        "\n",
        "principle = int(input(\"enter principle: \"))\n",
        "rate = int(input(\"enter rate: \"))\n",
        "time = int(input(\"enter time: \"))\n",
        "\n",
        "interest(principle, rate,time)"
      ],
      "metadata": {
        "id": "Di_MM-EQyN_i",
        "colab": {
          "base_uri": "https://localhost:8080/"
        },
        "outputId": "8d661a8a-ef1b-45a3-e8fe-750451bba978"
      },
      "execution_count": null,
      "outputs": [
        {
          "output_type": "stream",
          "name": "stdout",
          "text": [
            "enter principle: 23\n",
            "enter rate: 34\n",
            "enter time: 2\n",
            "intrest of the given input is:  15.64\n"
          ]
        }
      ]
    },
    {
      "cell_type": "markdown",
      "source": [
        "Write a program to find the volume of the cylinder. Also find the cost when ,when the cost of 1litre milk is 40Rs."
      ],
      "metadata": {
        "id": "qjPQOu5s31GS"
      }
    },
    {
      "cell_type": "code",
      "source": [
        "#volume of cylinder = (pi*r**2)*h\n",
        "def volume(radius, height):\n",
        "  vol = (math.pi*radius**2)*height\n",
        "  print(\"the volume of cylinder is: \", vol,\"cubic meter\")\n",
        "  return vol\n",
        "\n",
        "#1 cubic meter is 1000 ltr so we have our volume as cubic meter\n",
        "def cost(volume):\n",
        "  cost = \"Rs. \" + str(int((volume/1000)*40))\n",
        "  print(\"the cost of milk at a given litre is: \", cost)\n",
        "  return\n",
        "\n",
        "rad = int(input(\"enter radius of the cylinder: \"))\n",
        "hei = int(input(\"enter the height of the cylinder: \"))\n",
        "vol = volume(rad, hei)\n",
        "cost(vol)\n"
      ],
      "metadata": {
        "colab": {
          "base_uri": "https://localhost:8080/"
        },
        "id": "vqwEVGw3z4dF",
        "outputId": "a02a662a-0f9c-435c-9c9f-66c9a778e556"
      },
      "execution_count": null,
      "outputs": [
        {
          "output_type": "stream",
          "name": "stdout",
          "text": [
            "enter radius of the cylinder: 4\n",
            "enter the height of the cylinder: 10\n",
            "the volume of cylinder is:  502.6548245743669 cubic meter\n",
            "the cost of milk at a given litre is:  Rs. 20\n"
          ]
        }
      ]
    },
    {
      "cell_type": "markdown",
      "source": [
        "Write  a program that will tell whether the given number is divisible by 3 & 6."
      ],
      "metadata": {
        "id": "MqI4woa6-j9z"
      }
    },
    {
      "cell_type": "code",
      "source": [
        "def divisible(n):\n",
        "  if n%3==0 and n%6==0:\n",
        "    return \"it is divisible by 3 and 6\"\n",
        "  else:\n",
        "    return \"its not divisible by 3 and 6\"\n",
        "\n",
        "n = int(input(\"enter a number: \"))\n",
        "divisible(n)"
      ],
      "metadata": {
        "colab": {
          "base_uri": "https://localhost:8080/",
          "height": 53
        },
        "id": "f8JQh7Izz0dq",
        "outputId": "eaa006b2-a69d-4bd2-ece9-50128bde944f"
      },
      "execution_count": null,
      "outputs": [
        {
          "name": "stdout",
          "output_type": "stream",
          "text": [
            "enter a number: 12\n"
          ]
        },
        {
          "output_type": "execute_result",
          "data": {
            "text/plain": [
              "'it is divisible by 3 and 6'"
            ],
            "application/vnd.google.colaboratory.intrinsic+json": {
              "type": "string"
            }
          },
          "metadata": {},
          "execution_count": 39
        }
      ]
    },
    {
      "cell_type": "markdown",
      "source": [
        "Write a program that will determine weather when the value of temperature and humidity is provided by the user.\n",
        "TEMPERATURE(C)      HUMIDITY(%)      WEATHER\n",
        "\n",
        "      >= 30                             >=90                Hot and Humid\n",
        "      >= 30                             < 90                 Hot\n",
        "      <30                                >= 90               Cool and Humid\n",
        "      <30                                 <90                 Cool\n"
      ],
      "metadata": {
        "id": "YLRnjEhn_YFk"
      }
    },
    {
      "cell_type": "code",
      "source": [
        "def checkWeather(n):\n",
        "  if n>=90 and n>=30:\n",
        "    print(\"it is Hot and Humid\")\n",
        "  elif n>=30 and n<90:\n",
        "    print(\"it is Hot\")\n",
        "  elif 90<=n and n<30:\n",
        "    print(\"it is Cool and Humid\")\n",
        "  elif n<30 and n<90:\n",
        "    print(\"it is Cool\")\n",
        "  else:\n",
        "    print(\"the wether is undefined\")\n",
        "\n",
        "checkWeather(30)\n",
        "checkWeather(90)\n",
        "checkWeather(45)\n",
        "checkWeather(10)\n",
        "checkWeather(100)"
      ],
      "metadata": {
        "id": "PQsiq8Tm-8fg",
        "colab": {
          "base_uri": "https://localhost:8080/"
        },
        "outputId": "1c649843-887a-4d83-a421-1f49b9bf0770"
      },
      "execution_count": 6,
      "outputs": [
        {
          "output_type": "stream",
          "name": "stdout",
          "text": [
            "it is Hot\n",
            "it is Hot and Humid\n",
            "it is Hot\n",
            "it is Cool\n",
            "it is Hot and Humid\n"
          ]
        }
      ]
    },
    {
      "cell_type": "markdown",
      "source": [
        "Write a program that will take three digits from the user and add the square of each digit."
      ],
      "metadata": {
        "id": "EkP0snXh_nAl"
      }
    },
    {
      "cell_type": "code",
      "source": [
        "def addition(a,b,c):\n",
        "  added = (a**2)+(b**2)+(c**2)\n",
        "  print(added)\n",
        "\n",
        "num1 = int(input(\"enter first number: \"))\n",
        "num2 = int(input(\"enter second number: \"))\n",
        "num3 = int(input(\"enter third number: \"))\n",
        "\n",
        "addition(num1, num2, num3)\n",
        "      "
      ],
      "metadata": {
        "colab": {
          "base_uri": "https://localhost:8080/"
        },
        "id": "6mgUOZzD_nsB",
        "outputId": "e6eaa3d6-3117-4349-fe72-7aeb001262fc"
      },
      "execution_count": 7,
      "outputs": [
        {
          "output_type": "stream",
          "name": "stdout",
          "text": [
            "enter first number: 2\n",
            "enter second number: 2\n",
            "enter third number: 2\n",
            "12\n"
          ]
        }
      ]
    },
    {
      "cell_type": "markdown",
      "source": [
        ""
      ],
      "metadata": {
        "id": "CaQ2-bXqXNW9"
      }
    },
    {
      "cell_type": "code",
      "source": [
        ""
      ],
      "metadata": {
        "id": "2Avk0IZmBTMs"
      },
      "execution_count": null,
      "outputs": []
    }
  ]
}