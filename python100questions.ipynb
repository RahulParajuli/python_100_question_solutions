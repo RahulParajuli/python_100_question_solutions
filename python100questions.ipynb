{
  "nbformat": 4,
  "nbformat_minor": 0,
  "metadata": {
    "colab": {
      "name": "python100questions.ipynb",
      "provenance": [],
      "collapsed_sections": [],
      "authorship_tag": "ABX9TyNQf6TwxcXmQURX2anO3Tbo",
      "include_colab_link": true
    },
    "kernelspec": {
      "name": "python3",
      "display_name": "Python 3"
    },
    "language_info": {
      "name": "python"
    }
  },
  "cells": [
    {
      "cell_type": "markdown",
      "metadata": {
        "id": "view-in-github",
        "colab_type": "text"
      },
      "source": [
        "<a href=\"https://colab.research.google.com/github/RahulParajuli/python_100_question_solutions/blob/main/python100questions.ipynb\" target=\"_parent\"><img src=\"https://colab.research.google.com/assets/colab-badge.svg\" alt=\"Open In Colab\"/></a>"
      ]
    },
    {
      "cell_type": "markdown",
      "source": [
        "1. User will input number. Find the biggest one"
      ],
      "metadata": {
        "id": "e4c6UPQTlU-o"
      }
    },
    {
      "cell_type": "code",
      "execution_count": null,
      "metadata": {
        "colab": {
          "base_uri": "https://localhost:8080/"
        },
        "id": "DT4qQ7m1hddA",
        "outputId": "a3502cad-ad34-44b6-ae72-4fcb838134ee"
      },
      "outputs": [
        {
          "output_type": "stream",
          "name": "stdout",
          "text": [
            "enter the first age: 3\n",
            "enter second age: 4\n",
            "enter 3rd age: 5\n",
            "c is greatest\n"
          ]
        }
      ],
      "source": [
        "a = int(input(\"enter the first age: \"))\n",
        "b = int(input(\"enter second age: \"))\n",
        "c = int(input(\"enter 3rd age: \"))\n",
        "\n",
        "if a>b and a>c:\n",
        "  print(\"a is greatest\")\n",
        "elif b>a and b>c:\n",
        "  print(\"b is greatest\")\n",
        "else:\n",
        "  print(\"c is greatest\")"
      ]
    },
    {
      "cell_type": "markdown",
      "source": [
        "2. Write a program that will convert celsius value to fahrenheit"
      ],
      "metadata": {
        "id": "f0HQTvTgliGY"
      }
    },
    {
      "cell_type": "code",
      "source": [
        "celcius = int(input(\"enter the celcius\"))\n",
        "\n",
        "farhenheit = (celcius * 9/5) + 32\n",
        "print(\"farenheit of the celcuis is : \",farhenheit)"
      ],
      "metadata": {
        "colab": {
          "base_uri": "https://localhost:8080/"
        },
        "id": "Bi6SLcf1iA-f",
        "outputId": "5eaeeea4-e9cc-447a-8ae5-5c62dd1c9f67"
      },
      "execution_count": null,
      "outputs": [
        {
          "output_type": "stream",
          "name": "stdout",
          "text": [
            "enter the celcius45\n",
            "farenheit of the celcuis is :  113.0\n"
          ]
        }
      ]
    },
    {
      "cell_type": "markdown",
      "source": [
        "3. User will input (2numbers).Write a program to swap the numbers"
      ],
      "metadata": {
        "id": "5qY6AP6UlqfQ"
      }
    },
    {
      "cell_type": "code",
      "source": [
        "a = int(input(\"enter first number: \"))\n",
        "b = int(input(\"enter second number: \"))\n",
        "\n",
        "print(\"the initial number is: \",a,b)\n",
        "\n",
        "temp = a\n",
        "a = b\n",
        "b = temp\n",
        "\n",
        "print(\"the final number after swap is: \", a,b)"
      ],
      "metadata": {
        "colab": {
          "base_uri": "https://localhost:8080/"
        },
        "id": "9uPX0hRtifzD",
        "outputId": "da16a255-ac84-4328-81eb-b71cac8cc6d8"
      },
      "execution_count": null,
      "outputs": [
        {
          "output_type": "stream",
          "name": "stdout",
          "text": [
            "enter first number: 2\n",
            "enter second number: 3\n",
            "the initial number is:  2 3\n",
            "the final number after swap is:  3 2\n"
          ]
        }
      ]
    },
    {
      "cell_type": "markdown",
      "source": [
        "4. Write a program that will reverse a four digit number.Also it checks whether the reverse is true."
      ],
      "metadata": {
        "id": "5EOpTRZWl6hQ"
      }
    },
    {
      "cell_type": "code",
      "source": [
        "num = 1234\n",
        "reversed_num = 0\n",
        "\n",
        "while num != 0:\n",
        "    digit = num % 10\n",
        "    reversed_num = reversed_num * 10 + digit\n",
        "    num //= 10\n",
        "\n",
        "print(\"Reversed Number: \" + str(reversed_num))"
      ],
      "metadata": {
        "colab": {
          "base_uri": "https://localhost:8080/"
        },
        "id": "FZ3jyAo6jUG2",
        "outputId": "2b8161c0-4a80-49e7-83ae-d6088b5f390d"
      },
      "execution_count": null,
      "outputs": [
        {
          "output_type": "stream",
          "name": "stdout",
          "text": [
            "Reversed Number: 4321\n"
          ]
        }
      ]
    },
    {
      "cell_type": "markdown",
      "source": [
        "5. Write a program that will give you the sum of 3 digits"
      ],
      "metadata": {
        "id": "B49-ar7PmTKJ"
      }
    },
    {
      "cell_type": "code",
      "source": [
        "a = int(input(\"enter first number: \"))\n",
        "b = int(input(\"enter second number: \"))\n",
        "c = int(input(\"enter third number: \"))\n",
        "\n",
        "print(a+b+c)"
      ],
      "metadata": {
        "colab": {
          "base_uri": "https://localhost:8080/"
        },
        "id": "lQUe4L_gkbR2",
        "outputId": "80630a44-c959-4fb0-b4f3-7a6309783163"
      },
      "execution_count": null,
      "outputs": [
        {
          "output_type": "stream",
          "name": "stdout",
          "text": [
            "enter first number: 2\n",
            "enter second number: 2\n",
            "enter third number: 2\n",
            "6\n"
          ]
        }
      ]
    },
    {
      "cell_type": "markdown",
      "source": [
        "6. Write a program that will tell whether the number entered by the user is odd or even."
      ],
      "metadata": {
        "id": "wACcLVUZmscG"
      }
    },
    {
      "cell_type": "code",
      "source": [
        "num = int(input(\"enter a number: \"))\n",
        "\n",
        "if num%2==0:\n",
        "  print(\"the number is even\", num)\n",
        "else:\n",
        "  print(\"the number is odd\", num)"
      ],
      "metadata": {
        "colab": {
          "base_uri": "https://localhost:8080/"
        },
        "id": "uJmdfIAImfc3",
        "outputId": "9d5ecda8-f178-41f1-b57a-b26901497388"
      },
      "execution_count": null,
      "outputs": [
        {
          "output_type": "stream",
          "name": "stdout",
          "text": [
            "enter a number: 4\n",
            "the number is even 4\n"
          ]
        }
      ]
    },
    {
      "cell_type": "markdown",
      "source": [
        "7. Write a program that will tell whether the given year is a leap year or not."
      ],
      "metadata": {
        "id": "VXsJ-XaGm_Ie"
      }
    },
    {
      "cell_type": "code",
      "source": [
        "year = int(input(\"enter a year: \"))\n",
        "\n",
        "if year%400 == 0 | year%100==0 | year%4==0:\n",
        "    print(\"it is leap year\")\n",
        "else:\n",
        "  print(\"it is not a leap year\")"
      ],
      "metadata": {
        "colab": {
          "base_uri": "https://localhost:8080/"
        },
        "id": "UYkpDktHm7kG",
        "outputId": "af747db5-7570-4ba5-94bc-6fd26c7fbc3d"
      },
      "execution_count": null,
      "outputs": [
        {
          "output_type": "stream",
          "name": "stdout",
          "text": [
            "enter a year: 2022\n",
            "it is not a leap year\n"
          ]
        }
      ]
    },
    {
      "cell_type": "markdown",
      "source": [
        "8. Write a program to find the euclidean distance between two coordinates."
      ],
      "metadata": {
        "id": "Dq-HEWoVnsTu"
      }
    },
    {
      "cell_type": "code",
      "source": [
        "import math"
      ],
      "metadata": {
        "id": "3iZl4yW4noW5"
      },
      "execution_count": null,
      "outputs": []
    },
    {
      "cell_type": "code",
      "source": [
        "x1 = int(input(\"enter first point coordinate as x1: \"))\n",
        "x2 = int(input(\"enter first point coordinate as x2: \"))\n",
        "y1 = int(input(\"enter second point coordinate as y1: \"))\n",
        "y2 = int(input(\"enter second point coordinate as y2: \"))\n",
        "\n",
        "euclidean = (((x2-x1)**2)+((y2-y1)**2))\n",
        "\n",
        "ecd= math.sqrt(euclidean)\n",
        "print(\"the euclidean distance is: \", euclidean)\n"
      ],
      "metadata": {
        "id": "a9MPtyKHqU1w",
        "colab": {
          "base_uri": "https://localhost:8080/"
        },
        "outputId": "1596cbe2-eb6e-4c8d-f9e9-389e7814a097"
      },
      "execution_count": null,
      "outputs": [
        {
          "output_type": "stream",
          "name": "stdout",
          "text": [
            "enter first point coordinate as x1: 45\n",
            "enter first point coordinate as x2: 32\n",
            "enter second point coordinate as y1: 56\n",
            "enter second point coordinate as y2: 12\n",
            "the euclidean distance is:  2105\n"
          ]
        }
      ]
    },
    {
      "cell_type": "markdown",
      "source": [
        "Write a program that take a user input of three angles and will find out whether it can form a triangle or not."
      ],
      "metadata": {
        "id": "Kd7sVkPdvhh1"
      }
    },
    {
      "cell_type": "code",
      "source": [
        "# triangle theorem = two of the three sides addition should be greater than itself\n",
        "\n",
        "def triangle(a, b, c):\n",
        "  if a+b >c and b+c >a and c+a> b:\n",
        "    print(\"it is a triangle\")\n",
        "  else:\n",
        "    print(\"it is not a triangle\")\n",
        "  return\n",
        "\n",
        "side1 = int(input(\"enter first angle: \"))\n",
        "side2 = int(input(\"enter second angle: \"))\n",
        "side3 = int(input(\"enter third angle: \"))\n",
        "triangle(side1,side2,side3)"
      ],
      "metadata": {
        "colab": {
          "base_uri": "https://localhost:8080/"
        },
        "id": "r4KbVWwqswdZ",
        "outputId": "0fe032e2-93bc-4997-d7a8-342051c0bcfd"
      },
      "execution_count": null,
      "outputs": [
        {
          "output_type": "stream",
          "name": "stdout",
          "text": [
            "enter first angle: 45\n",
            "enter second angle: 45\n",
            "enter third angle: 45\n",
            "it is a triangle\n"
          ]
        }
      ]
    },
    {
      "cell_type": "markdown",
      "source": [
        "Write a program that will take user input of cost price and selling price and determines whether its a loss or a profit"
      ],
      "metadata": {
        "id": "En3lymBWxdfE"
      }
    },
    {
      "cell_type": "code",
      "source": [
        "def sales(cost, sell):\n",
        "  if cost > sell:\n",
        "    loss = cost - sell\n",
        "    print(\"it is loss with: \", loss)\n",
        "  elif sell > cost:\n",
        "    profit = sell - cost\n",
        "    print(\"it is profit with: \", profit)\n",
        "  return\n",
        "\n",
        "cost = int(input(\"enter cost amount: \"))\n",
        "sell = int(input(\"enter sell amount: \"))\n",
        "sales(cost,sell)"
      ],
      "metadata": {
        "colab": {
          "base_uri": "https://localhost:8080/"
        },
        "id": "zfodTlvFw-Ob",
        "outputId": "ceb8cfb2-d029-4a90-dddd-e20ad3ab88bd"
      },
      "execution_count": null,
      "outputs": [
        {
          "output_type": "stream",
          "name": "stdout",
          "text": [
            "enter cost amount: 200\n",
            "enter sell amount: 150\n",
            "it is loss with:  50\n"
          ]
        }
      ]
    },
    {
      "cell_type": "markdown",
      "source": [
        "Write a program to find the simple interest when the value of principle,rate of interest and time period is given."
      ],
      "metadata": {
        "id": "_FOKELuAyca0"
      }
    },
    {
      "cell_type": "code",
      "source": [
        "def interest(principle, rate, time):\n",
        "  i = (principle * rate * time)/100\n",
        "  print(\"intrest of the given input is: \", i)\n",
        "  return\n",
        "\n",
        "principle = int(input(\"enter principle: \"))\n",
        "rate = int(input(\"enter rate: \"))\n",
        "time = int(input(\"enter time: \"))\n",
        "\n",
        "interest(principle, rate,time)"
      ],
      "metadata": {
        "id": "Di_MM-EQyN_i",
        "colab": {
          "base_uri": "https://localhost:8080/"
        },
        "outputId": "8d661a8a-ef1b-45a3-e8fe-750451bba978"
      },
      "execution_count": null,
      "outputs": [
        {
          "output_type": "stream",
          "name": "stdout",
          "text": [
            "enter principle: 23\n",
            "enter rate: 34\n",
            "enter time: 2\n",
            "intrest of the given input is:  15.64\n"
          ]
        }
      ]
    },
    {
      "cell_type": "markdown",
      "source": [
        "Write a program to find the volume of the cylinder. Also find the cost when ,when the cost of 1litre milk is 40Rs."
      ],
      "metadata": {
        "id": "qjPQOu5s31GS"
      }
    },
    {
      "cell_type": "code",
      "source": [
        "#volume of cylinder = (pi*r**2)*h\n",
        "def volume(radius, height):\n",
        "  vol = (math.pi*radius**2)*height\n",
        "  print(\"the volume of cylinder is: \", vol,\"cubic meter\")\n",
        "  return vol\n",
        "\n",
        "#1 cubic meter is 1000 ltr so we have our volume as cubic meter\n",
        "def cost(volume):\n",
        "  cost = \"Rs. \" + str(int((volume/1000)*40))\n",
        "  print(\"the cost of milk at a given litre is: \", cost)\n",
        "  return\n",
        "\n",
        "rad = int(input(\"enter radius of the cylinder: \"))\n",
        "hei = int(input(\"enter the height of the cylinder: \"))\n",
        "vol = volume(rad, hei)\n",
        "cost(vol)\n"
      ],
      "metadata": {
        "colab": {
          "base_uri": "https://localhost:8080/"
        },
        "id": "vqwEVGw3z4dF",
        "outputId": "a02a662a-0f9c-435c-9c9f-66c9a778e556"
      },
      "execution_count": null,
      "outputs": [
        {
          "output_type": "stream",
          "name": "stdout",
          "text": [
            "enter radius of the cylinder: 4\n",
            "enter the height of the cylinder: 10\n",
            "the volume of cylinder is:  502.6548245743669 cubic meter\n",
            "the cost of milk at a given litre is:  Rs. 20\n"
          ]
        }
      ]
    },
    {
      "cell_type": "markdown",
      "source": [
        "Write  a program that will tell whether the given number is divisible by 3 & 6."
      ],
      "metadata": {
        "id": "MqI4woa6-j9z"
      }
    },
    {
      "cell_type": "code",
      "source": [
        "def divisible(n):\n",
        "  if n%3==0 and n%6==0:\n",
        "    return \"it is divisible by 3 and 6\"\n",
        "  else:\n",
        "    return \"its not divisible by 3 and 6\"\n",
        "\n",
        "n = int(input(\"enter a number: \"))\n",
        "divisible(n)"
      ],
      "metadata": {
        "colab": {
          "base_uri": "https://localhost:8080/",
          "height": 53
        },
        "id": "f8JQh7Izz0dq",
        "outputId": "eaa006b2-a69d-4bd2-ece9-50128bde944f"
      },
      "execution_count": null,
      "outputs": [
        {
          "name": "stdout",
          "output_type": "stream",
          "text": [
            "enter a number: 12\n"
          ]
        },
        {
          "output_type": "execute_result",
          "data": {
            "text/plain": [
              "'it is divisible by 3 and 6'"
            ],
            "application/vnd.google.colaboratory.intrinsic+json": {
              "type": "string"
            }
          },
          "metadata": {},
          "execution_count": 39
        }
      ]
    },
    {
      "cell_type": "markdown",
      "source": [
        "Write a program that will determine weather when the value of temperature and humidity is provided by the user.\n",
        "TEMPERATURE(C)      HUMIDITY(%)      WEATHER\n",
        "\n",
        "      >= 30                             >=90                Hot and Humid\n",
        "      >= 30                             < 90                 Hot\n",
        "      <30                                >= 90               Cool and Humid\n",
        "      <30                                 <90                 Cool\n"
      ],
      "metadata": {
        "id": "YLRnjEhn_YFk"
      }
    },
    {
      "cell_type": "code",
      "source": [
        "def checkWeather(n):\n",
        "  if n>=90 and n>=30:\n",
        "    print(\"it is Hot and Humid\")\n",
        "  elif n>=30 and n<90:\n",
        "    print(\"it is Hot\")\n",
        "  elif 90<=n and n<30:\n",
        "    print(\"it is Cool and Humid\")\n",
        "  elif n<30 and n<90:\n",
        "    print(\"it is Cool\")\n",
        "  else:\n",
        "    print(\"the wether is undefined\")\n",
        "\n",
        "checkWeather(30)\n",
        "checkWeather(90)\n",
        "checkWeather(45)\n",
        "checkWeather(10)\n",
        "checkWeather(100)"
      ],
      "metadata": {
        "id": "PQsiq8Tm-8fg",
        "colab": {
          "base_uri": "https://localhost:8080/"
        },
        "outputId": "1c649843-887a-4d83-a421-1f49b9bf0770"
      },
      "execution_count": null,
      "outputs": [
        {
          "output_type": "stream",
          "name": "stdout",
          "text": [
            "it is Hot\n",
            "it is Hot and Humid\n",
            "it is Hot\n",
            "it is Cool\n",
            "it is Hot and Humid\n"
          ]
        }
      ]
    },
    {
      "cell_type": "markdown",
      "source": [
        "Write a program that will take three digits from the user and add the square of each digit."
      ],
      "metadata": {
        "id": "EkP0snXh_nAl"
      }
    },
    {
      "cell_type": "code",
      "source": [
        "def addition(a,b,c):\n",
        "  added = (a**2)+(b**2)+(c**2)\n",
        "  print(added)\n",
        "\n",
        "num1 = int(input(\"enter first number: \"))\n",
        "num2 = int(input(\"enter second number: \"))\n",
        "num3 = int(input(\"enter third number: \"))\n",
        "\n",
        "addition(num1, num2, num3)\n",
        "      "
      ],
      "metadata": {
        "colab": {
          "base_uri": "https://localhost:8080/"
        },
        "id": "6mgUOZzD_nsB",
        "outputId": "e6eaa3d6-3117-4349-fe72-7aeb001262fc"
      },
      "execution_count": null,
      "outputs": [
        {
          "output_type": "stream",
          "name": "stdout",
          "text": [
            "enter first number: 2\n",
            "enter second number: 2\n",
            "enter third number: 2\n",
            "12\n"
          ]
        }
      ]
    },
    {
      "cell_type": "markdown",
      "source": [
        "Write a program that will check whether the number is armstrong number or not."
      ],
      "metadata": {
        "id": "CaQ2-bXqXNW9"
      }
    },
    {
      "cell_type": "code",
      "source": [
        "#number given when powered by total number gives the same number\n",
        "#for example - if user provide 407 as input then \n",
        "# (4*4*4) + (0*0*0) + (7*7*7)\n",
        "# = 64 + 0 + 343\n",
        "# which gives = 407\n",
        "\n",
        "num = int(input(\"enter a number: \"))\n",
        "result = 0\n",
        "n = 0\n",
        "\n",
        "temp = num\n",
        "while (temp != 0):\n",
        "  temp = int(temp/10)\n",
        "  n = n+1\n",
        "#   print(temp)\n",
        "\n",
        "temp = num\n",
        "while (temp > 0):\n",
        "  remainder = temp % 10\n",
        "  result = result + pow(remainder,n)\n",
        "  temp = temp//10\n",
        "\n",
        "if (result == num):\n",
        "  print(\"armstrong number\")\n",
        "else:\n",
        "  print(\"Not an armstrong number\")"
      ],
      "metadata": {
        "id": "2Avk0IZmBTMs",
        "colab": {
          "base_uri": "https://localhost:8080/"
        },
        "outputId": "0a678c2b-4349-4ee7-ee35-e4b1cd778828"
      },
      "execution_count": null,
      "outputs": [
        {
          "output_type": "stream",
          "name": "stdout",
          "text": [
            "enter a number: 407\n",
            "armstrong number\n"
          ]
        }
      ]
    },
    {
      "cell_type": "markdown",
      "source": [
        "<h1> how i code\n",
        "<h1> vs\n",
        "<h1> how my girlfriend codes"
      ],
      "metadata": {
        "id": "-OWjf3y3FFbm"
      }
    },
    {
      "cell_type": "code",
      "source": [
        "def armstrong(num):\n",
        "    temp = [pow(int(x),len(str(num))) for x in str(num)]\n",
        "    return (\"It is Armstrong\") if sum(temp) == num else print(\"It is not Armstrong\")\n",
        "num = int(input((\"Enter a num: \")))\n",
        "armstrong(num)"
      ],
      "metadata": {
        "colab": {
          "base_uri": "https://localhost:8080/",
          "height": 54
        },
        "id": "vplGhxHM_TMv",
        "outputId": "6d2a031d-c59e-463c-e094-1693df9f9ad1"
      },
      "execution_count": null,
      "outputs": [
        {
          "name": "stdout",
          "output_type": "stream",
          "text": [
            "Enter a num: 407\n"
          ]
        },
        {
          "output_type": "execute_result",
          "data": {
            "text/plain": [
              "'It is Armstrong'"
            ],
            "application/vnd.google.colaboratory.intrinsic+json": {
              "type": "string"
            }
          },
          "metadata": {},
          "execution_count": 7
        }
      ]
    },
    {
      "cell_type": "markdown",
      "source": [
        "Write a program that will take user input of (4 digits number) and check whether the number is narcissist number or not."
      ],
      "metadata": {
        "id": "qEmEjzoVHWdj"
      }
    },
    {
      "cell_type": "code",
      "source": [
        "# armstrong number and narcissist number are same\n",
        "\n",
        "num = int(input(\"enter a number: \"))\n",
        "n = 0\n",
        "result = 0\n",
        "temp = num\n",
        "\n",
        "while (temp != 0):\n",
        "  temp = int(temp/10)\n",
        "  n+=1\n",
        "\n",
        "#gives number of digit\n",
        "\n",
        "#again\n",
        "temp = num\n",
        "while(temp != 0):\n",
        "  remainder = temp % 10\n",
        "  result = result + pow(remainder, n)\n",
        "  temp = temp//10\n",
        "\n",
        "if result == num:\n",
        "  print(\"it is a narcissist number\")\n",
        "else:\n",
        "  print(\"it is not a narcissist number\")"
      ],
      "metadata": {
        "colab": {
          "base_uri": "https://localhost:8080/"
        },
        "id": "v1lWRxG8Erih",
        "outputId": "79786519-0de5-4078-95d3-cb1ccc2db166"
      },
      "execution_count": null,
      "outputs": [
        {
          "output_type": "stream",
          "name": "stdout",
          "text": [
            "enter a number: 407\n",
            "it is a narcissist number\n"
          ]
        }
      ]
    },
    {
      "cell_type": "markdown",
      "source": [
        "Write a program that will give you the in hand salary after deduction of HRA(10%),DA(5%),PF(3%), and tax(if salary is between 5-10 lakh–10%),(11-20lakh–20%),(20< _   – 30%)(0-1lakh print k)."
      ],
      "metadata": {
        "id": "oixqoqwgJgvB"
      }
    },
    {
      "cell_type": "code",
      "source": [
        "def salary_calculation(salary):\n",
        "  HRA = salary * 0.1\n",
        "  DA = salary * 0.05\n",
        "  PF = salary * 0.03\n",
        "  total_salary = salary - HRA - DA - PF\n",
        "\n",
        "  if total_salary > 500000 and total_salary < 1000000:\n",
        "    tax = total_salary * 0.1\n",
        "    total_salary = total_salary - tax\n",
        "    print (\"the tax lies in 10%, received salary: \", total_salary)\n",
        "\n",
        "  elif total_salary < 100000:\n",
        "    print(\"K\")\n",
        "\n",
        "  elif total_salary > 1100000 and total_salary < 2000000:\n",
        "    tax = total_salary * 0.2\n",
        "    total_salary = total_salary - tax\n",
        "    print(\"the tax lies in 20%, received salary: \", total_salary)\n",
        "\n",
        "  else:\n",
        "    tax = total_salary * 0.3\n",
        "    total_salary = total_salary - tax\n",
        "    print(\"the tax lies in 30%, received salary: \", total_salary)\n",
        "\n",
        "n = 5\n",
        "while (n != 0): \n",
        "  salary = int(input(\"enter the amount of salary: \"))\n",
        "  salary_calculation(salary)\n",
        "  n = n-1"
      ],
      "metadata": {
        "colab": {
          "base_uri": "https://localhost:8080/"
        },
        "id": "BKdjFI2mJOEL",
        "outputId": "1ecc67e9-62ed-4fd4-b5f3-2391d5fe50e3"
      },
      "execution_count": null,
      "outputs": [
        {
          "output_type": "stream",
          "name": "stdout",
          "text": [
            "enter the amount of salary: 100000\n",
            "K\n",
            "enter the amount of salary: 200000\n",
            "the tax lies in 30%, received salary:  114800.0\n",
            "enter the amount of salary: 300000\n",
            "the tax lies in 30%, received salary:  172200.0\n",
            "enter the amount of salary: 400000\n",
            "the tax lies in 30%, received salary:  229600.0\n",
            "enter the amount of salary: 500000\n",
            "the tax lies in 30%, received salary:  287000.0\n"
          ]
        }
      ]
    },
    {
      "cell_type": "markdown",
      "source": [
        "Write a menu driven program -<br> 1.cm to ft <br>  2.km to miles <br> 3.usd to npr <br> 4.exit"
      ],
      "metadata": {
        "id": "ArI9N2lEkyPR"
      }
    },
    {
      "cell_type": "code",
      "source": [
        "def to_ft(length):\n",
        "  #Formula\tdivide the length value by 30.48\n",
        "  ft = length / 30.48\n",
        "  print(\"-\"*50)\n",
        "  print(\"the conversion from cm to feet is: \",ft, \"ft\")\n",
        "  print(\"-\"*50)\n",
        "def to_cm(length):\n",
        "  cm = length*30.48\n",
        "  print(\"-\"*50)\n",
        "  print(\"the conversion from feet to cm is: \",cm,\"cm\")\n",
        "  print(\"-\"*50)\n",
        "def to_km(length):\n",
        "  #1 kilometer is equal to 0.621371 miles\n",
        "  km = length * 1.6\n",
        "  print(\"-\"*50)\n",
        "  print(\"the conversion from miles to kilometer is: \",km, \"km\")\n",
        "  print(\"-\"*50)\n",
        "def to_miles(length):\n",
        "  miles = length * 0.621371\n",
        "  print(\"-\"*50)\n",
        "  print(\"the conversion from km to miles is: \",miles,\"miles\")\n",
        "  print(\"-\"*50)\n",
        "def to_usd(amount):\n",
        "  usd = amount / 122\n",
        "  print(\"-\"*50)\n",
        "  print(\"the conversion from NPR to USD is: $\",usd)\n",
        "  print(\"-\"*50)\n",
        "def to_npr(amount):\n",
        "  npr = amount * 122\n",
        "  print(\"-\"*50)\n",
        "  print(\"the converion from USD to NPR is: Rs\",npr)\n",
        "  print(\"-\"*50)\n",
        "\n",
        "while True:\n",
        "  print(\"\\n MAIN MENU\")\n",
        "  print(\"1. Calculate cm to ft\")\n",
        "  print(\"2. Calculate km to miles\")\n",
        "  print(\"3. Calculate USD to NPR\")\n",
        "  print(\"4. exit!!!\")\n",
        "  choice1 = int(input(\"enter the operation in their respective number: \"))\n",
        "\n",
        "  if choice1 ==1:\n",
        "    print(\"Welcome to calculation of cm to ft\")\n",
        "    print(\"-\"*50)\n",
        "    print(\"select operation\")\n",
        "    print(\"1. to ft | 2. to cm | 3. exit\")\n",
        "\n",
        "    choice2 = int(input(\"enter operation\"))\n",
        "\n",
        "    if choice2 == 1:\n",
        "      cm = int(input(\"enter length in CM: \"))\n",
        "      to_ft(cm)\n",
        "    elif choice2 ==2:\n",
        "      ft = int(input(\"enter length in ft: \"))\n",
        "      to_cm(ft)\n",
        "    else:\n",
        "      break\n",
        "  elif choice1 ==2:\n",
        "    print(\"Welcome to calculation of km to miles\")\n",
        "    print(\"-\"*50)\n",
        "    print(\"select operation\")\n",
        "    print(\"1. to km | 2. to miles | 3. exit\")\n",
        "    choice2 = int(input(\"enter operation: \"))\n",
        "\n",
        "    if choice2 == 1:\n",
        "      km = int(input(\"enter miles: \"))\n",
        "      to_km(km)\n",
        "    elif choice2==2:\n",
        "      miles = int(input(\"enter km: \"))\n",
        "      to_miles (miles)\n",
        "    else:\n",
        "      break\n",
        "  elif choice1 ==3:\n",
        "    print(\"welcome to USD to NPR currency converter\")\n",
        "    print(\"-\"*50)\n",
        "    print(\"select operation\")\n",
        "    print(\"1. to USD | 2. to NPR | 3. exit\")\n",
        "    choice2 = int(input(\"enter operation\"))\n",
        "\n",
        "    if choice2==1:\n",
        "      print(\"convert to USD\")\n",
        "      npr = int (input(\"enter price in nepalese currency: \"))\n",
        "      to_usd (npr)\n",
        "    elif choice2==2:\n",
        "      print(\"conver to NPR\")\n",
        "      usd = int(input(\"enter currency in USD: \"))\n",
        "      to_npr(usd)\n",
        "    else:\n",
        "      break\n",
        "  elif choice1 == 4:\n",
        "    break\n",
        "  else:\n",
        "    print(\"wrong input\")"
      ],
      "metadata": {
        "colab": {
          "base_uri": "https://localhost:8080/"
        },
        "id": "r_Eodr3lk1wA",
        "outputId": "833ec345-76c4-480e-bea2-ad4956676043"
      },
      "execution_count": null,
      "outputs": [
        {
          "name": "stdout",
          "output_type": "stream",
          "text": [
            "\n",
            " MAIN MENU\n",
            "1. Calculate cm to ft\n",
            "2. Calculate km to miles\n",
            "3. Calculate USD to NPR\n",
            "4. exit!!!\n",
            "enter the operation in their respective number: 3\n",
            "welcome to USD to NPR currency converter\n",
            "--------------------------------------------------\n",
            "select operation\n",
            "1. to USD | 2. to NPR | 3. exit\n",
            "enter operation2\n",
            "conver to NPR\n",
            "enter currency in USD: 500\n",
            "--------------------------------------------------\n",
            "the converion from USD to NPR is: Rs 61000\n",
            "--------------------------------------------------\n",
            "\n",
            " MAIN MENU\n",
            "1. Calculate cm to ft\n",
            "2. Calculate km to miles\n",
            "3. Calculate USD to NPR\n",
            "4. exit!!!\n",
            "enter the operation in their respective number: 1\n",
            "Welcome to calculation of cm to ft\n",
            "--------------------------------------------------\n",
            "select operation\n",
            "1. to ft | 2. to cm | 3. exit\n",
            "enter operation1\n",
            "enter length in CM: 500\n",
            "--------------------------------------------------\n",
            "the conversion from cm to feet is:  16.404199475065617 ft\n",
            "--------------------------------------------------\n",
            "\n",
            " MAIN MENU\n",
            "1. Calculate cm to ft\n",
            "2. Calculate km to miles\n",
            "3. Calculate USD to NPR\n",
            "4. exit!!!\n",
            "enter the operation in their respective number: 2\n",
            "Welcome to calculation of km to miles\n",
            "--------------------------------------------------\n",
            "select operation\n",
            "1. to km | 2. to miles | 3. exit\n",
            "enter operation: 1\n",
            "enter miles: 500\n",
            "--------------------------------------------------\n",
            "the conversion from miles to kilometer is:  800.0 km\n",
            "--------------------------------------------------\n",
            "\n",
            " MAIN MENU\n",
            "1. Calculate cm to ft\n",
            "2. Calculate km to miles\n",
            "3. Calculate USD to NPR\n",
            "4. exit!!!\n",
            "enter the operation in their respective number: 4\n"
          ]
        }
      ]
    },
    {
      "cell_type": "markdown",
      "source": [
        "Write a program that will tell the number of dogs and chicken are there when the user will provide the value of total heads and legs."
      ],
      "metadata": {
        "id": "qAFWH-yGt9bX"
      }
    },
    {
      "cell_type": "code",
      "source": [
        "\n",
        "def countDog(Heads, Legs):\n",
        "    count = 0\n",
        " \n",
        "    count = (Legs) - 2 * (Heads)\n",
        "    count = count / 2\n",
        " \n",
        "    return count\n",
        "\n",
        "if __name__ == '__main__':\n",
        "    Heads = 100\n",
        "    Legs = 300\n",
        " \n",
        "    dog = countDog(Heads, Legs)\n",
        " \n",
        "    print(\"Dog =\", dog)\n",
        "    print(\"Hen =\", Heads - dog)"
      ],
      "metadata": {
        "id": "Cw4QUqBRuFbA",
        "colab": {
          "base_uri": "https://localhost:8080/"
        },
        "outputId": "74ef81c1-9a04-42f7-d4de-ce47f8267936"
      },
      "execution_count": null,
      "outputs": [
        {
          "output_type": "stream",
          "name": "stdout",
          "text": [
            "Dog = 50.0\n",
            "Hen = 50.0\n"
          ]
        }
      ]
    },
    {
      "cell_type": "markdown",
      "source": [
        "Write a program that will swap numbers"
      ],
      "metadata": {
        "id": "JmIgZp2Hcfz3"
      }
    },
    {
      "cell_type": "code",
      "source": [
        "def swapNum(a,b):\n",
        "  temp = a\n",
        "  a = b\n",
        "  b = temp\n",
        "  return a,b\n",
        "  \n",
        "num1 = int(input(\"enter first number: \"))\n",
        "num2 = int(input(\"enter second number: \"))\n",
        "swapNum (num1, num2)"
      ],
      "metadata": {
        "colab": {
          "base_uri": "https://localhost:8080/"
        },
        "id": "Y352iNNdchKY",
        "outputId": "2b313238-9f6a-4c7b-d0a0-1e2fdb59b3bd"
      },
      "execution_count": null,
      "outputs": [
        {
          "name": "stdout",
          "output_type": "stream",
          "text": [
            "enter first number: 2\n",
            "enter second number: 3\n"
          ]
        },
        {
          "output_type": "execute_result",
          "data": {
            "text/plain": [
              "(3, 2)"
            ]
          },
          "metadata": {},
          "execution_count": 6
        }
      ]
    },
    {
      "cell_type": "markdown",
      "source": [
        "Write a program to find the sum of first n numbers, where n will be provided by the user. Eg if the user provides n=10 the output should be 55."
      ],
      "metadata": {
        "id": "Hyz_wxD1feHU"
      }
    },
    {
      "cell_type": "code",
      "source": [
        "#sum of n natural number = n*(n+1)/2\n",
        "def natural(n):\n",
        "  result =  (n*(n+1))/2\n",
        "  return (\"the sum of natural number of the given input is: \"+ str(result)) \n",
        "n = int(input(\"enter a number: \"))\n",
        "natural(n)"
      ],
      "metadata": {
        "colab": {
          "base_uri": "https://localhost:8080/",
          "height": 54
        },
        "id": "0xmNFsClfl7T",
        "outputId": "6697a404-2e1e-4142-a1fc-9d75bfffcf06"
      },
      "execution_count": null,
      "outputs": [
        {
          "name": "stdout",
          "output_type": "stream",
          "text": [
            "enter a number: 10\n"
          ]
        },
        {
          "output_type": "execute_result",
          "data": {
            "text/plain": [
              "'the sum of natural number of the given input is: 55.0'"
            ],
            "application/vnd.google.colaboratory.intrinsic+json": {
              "type": "string"
            }
          },
          "metadata": {},
          "execution_count": 8
        }
      ]
    },
    {
      "cell_type": "markdown",
      "source": [
        "Write a program that can multiply 2 numbers provided by the user without using the * operator"
      ],
      "metadata": {
        "id": "WeraCEpLhIs9"
      }
    },
    {
      "cell_type": "code",
      "source": [
        "\n",
        "def mult(num1, num2):\n",
        "  product = 0\n",
        "  for i in range(0,num2):\n",
        "    product = product + num1\n",
        "  print(\"the product of the number without using * operator is:\",product)\n",
        "\n",
        "num1 = int(input(\"enter first number: \"))\n",
        "num2 = int(input(\"enter second number: \"))\n",
        "mult(num1, num2)\n"
      ],
      "metadata": {
        "colab": {
          "base_uri": "https://localhost:8080/"
        },
        "id": "jvxHk5cKhMTW",
        "outputId": "f104d66c-64c4-40b0-9343-5b200ee96233"
      },
      "execution_count": null,
      "outputs": [
        {
          "output_type": "stream",
          "name": "stdout",
          "text": [
            "enter first number: 4\n",
            "enter second number: 4\n",
            "the product of the number without using * operator is: 16\n"
          ]
        }
      ]
    },
    {
      "cell_type": "markdown",
      "source": [
        "Write a program that can find the factorial of a given number provided by the user."
      ],
      "metadata": {
        "id": "xFj-TYK9jrvl"
      }
    },
    {
      "cell_type": "code",
      "source": [
        "def fact(n):\n",
        "  p = 1\n",
        "  while n != 0:\n",
        "    p = n*p\n",
        "    n -= 1\n",
        "  print(\"factorial of the give number is: \",p)\n",
        "n = int(input(\"enter a number: \"))\n",
        "fact(n)"
      ],
      "metadata": {
        "colab": {
          "base_uri": "https://localhost:8080/"
        },
        "id": "gCL0I8qKjq-d",
        "outputId": "b3054721-a4b6-4261-9bbc-c6eab95a4b6d"
      },
      "execution_count": null,
      "outputs": [
        {
          "output_type": "stream",
          "name": "stdout",
          "text": [
            "enter a number: 12\n",
            "factorial of the give number is:  479001600\n"
          ]
        }
      ]
    },
    {
      "cell_type": "code",
      "source": [
        "#bonus\n",
        "import numpy as np \n",
        "num = int(input(\"enter a number: \"))\n",
        "l = [x+1 for x in range(num)]\n",
        "print(l)\n",
        "print(f\"factorial is {np.prod(l)}\")"
      ],
      "metadata": {
        "colab": {
          "base_uri": "https://localhost:8080/"
        },
        "id": "m7-iNkn9LuJ0",
        "outputId": "9f015add-05ed-4403-8020-6f651ed2c66d"
      },
      "execution_count": null,
      "outputs": [
        {
          "output_type": "stream",
          "name": "stdout",
          "text": [
            "enter a number: 5\n",
            "[1, 2, 3, 4, 5]\n",
            "factorial is 120\n"
          ]
        }
      ]
    },
    {
      "cell_type": "markdown",
      "source": [
        "Write a program to print the first 25 odd numbers"
      ],
      "metadata": {
        "id": "eiG1EWfZlZIf"
      }
    },
    {
      "cell_type": "code",
      "source": [
        "l = []\n",
        "s = 0\n",
        "while True:\n",
        "  if s % 2 != 0:\n",
        "    l.append(s)\n",
        "  s += 1\n",
        "  if len(l)==25:\n",
        "    break\n",
        "print(\"list of 25 odd number is: \",l)"
      ],
      "metadata": {
        "id": "L7TWutHnNa77",
        "colab": {
          "base_uri": "https://localhost:8080/"
        },
        "outputId": "2bbefe30-3cf8-423c-eefd-2e2e4a675aca"
      },
      "execution_count": null,
      "outputs": [
        {
          "output_type": "stream",
          "name": "stdout",
          "text": [
            "list of 25 odd number is:  [1, 3, 5, 7, 9, 11, 13, 15, 17, 19, 21, 23, 25, 27, 29, 31, 33, 35, 37, 39, 41, 43, 45, 47, 49]\n"
          ]
        }
      ]
    },
    {
      "cell_type": "markdown",
      "source": [
        "Write a program to print whether a given number is prime number or not"
      ],
      "metadata": {
        "id": "882YDsyAwhnB"
      }
    },
    {
      "cell_type": "code",
      "source": [
        "n = int(input(\"enter a number: \"))\n",
        "if n > 1:\n",
        "  for i in range (2, int(n/2)+1):\n",
        "    if n % i ==0:\n",
        "      print(\"it is not a prime number\")\n",
        "    else:\n",
        "      print(\"it is a prime number\")\n",
        "else:\n",
        "  print(\"it is not a prime number\")"
      ],
      "metadata": {
        "colab": {
          "base_uri": "https://localhost:8080/"
        },
        "id": "pIPx9LNjtDKB",
        "outputId": "15f53459-e06f-4233-fe56-bdbb24dd7100"
      },
      "execution_count": null,
      "outputs": [
        {
          "output_type": "stream",
          "name": "stdout",
          "text": [
            "enter a number: 5\n",
            "it is a prime number\n"
          ]
        }
      ]
    },
    {
      "cell_type": "markdown",
      "source": [
        "Print all the armstrong numbers in the range of 100 to 1000"
      ],
      "metadata": {
        "id": "EDGx9WbkyqZr"
      }
    },
    {
      "cell_type": "code",
      "source": [
        "for num in range(100, 1000):\n",
        "   order = len(str(num))\n",
        "   sum = 0\n",
        "   temp = num\n",
        "   while temp > 0:\n",
        "       digit = temp % 10\n",
        "       sum += digit ** order\n",
        "       temp //= 10\n",
        "   if num == sum:\n",
        "       print(num)"
      ],
      "metadata": {
        "colab": {
          "base_uri": "https://localhost:8080/"
        },
        "id": "UXoJGoovCCz8",
        "outputId": "f3aa6075-2965-458c-98d3-aeee0beff9ba"
      },
      "execution_count": null,
      "outputs": [
        {
          "output_type": "stream",
          "name": "stdout",
          "text": [
            "153\n",
            "370\n",
            "371\n",
            "407\n"
          ]
        }
      ]
    },
    {
      "cell_type": "markdown",
      "source": [
        "The current population of a town is 10000. The population of the town is increasing at the rate of 10% per year. You have to write a program to find out the population at the end of each of the last 10 years.\n"
      ],
      "metadata": {
        "id": "4rA00WjDKdBi"
      }
    },
    {
      "cell_type": "code",
      "source": [
        "def population(popu):\n",
        "  for years in range(0,10):\n",
        "    increment = years * (popu + (popu * 0.1))\n",
        "    print(increment)\n",
        "    years -= 1\n",
        "  return\n",
        "population(10000)"
      ],
      "metadata": {
        "id": "wVy-VIV2I6ag",
        "colab": {
          "base_uri": "https://localhost:8080/"
        },
        "outputId": "674027b3-cbcb-43a0-b012-ab8c45313c3e"
      },
      "execution_count": null,
      "outputs": [
        {
          "output_type": "stream",
          "name": "stdout",
          "text": [
            "0.0\n",
            "11000.0\n",
            "22000.0\n",
            "33000.0\n",
            "44000.0\n",
            "55000.0\n",
            "66000.0\n",
            "77000.0\n",
            "88000.0\n",
            "99000.0\n"
          ]
        }
      ]
    },
    {
      "cell_type": "markdown",
      "source": [
        "Write a program to print all the unique combinations of 1,2,3 and 4"
      ],
      "metadata": {
        "id": "mhtDsCzdVt0d"
      }
    },
    {
      "cell_type": "code",
      "source": [
        "#taking list of number such as [1,2,3,4]\n",
        "def comb(n):\n",
        "  for i in range(4):\n",
        "    for j in range(4):\n",
        "      for k in range(4):\n",
        "        for l in range(4):\n",
        "          if (i!=j, j!=k, k!=l, i!=l):\n",
        "            print(n[i],n[j],n[k],n[l])\n",
        "\n",
        "comb([6,7,8,9])\n"
      ],
      "metadata": {
        "id": "dPLg3dMG8DPN",
        "colab": {
          "base_uri": "https://localhost:8080/"
        },
        "outputId": "f0b64719-f0d7-44ef-c4fe-7273389b1317"
      },
      "execution_count": null,
      "outputs": [
        {
          "output_type": "stream",
          "name": "stdout",
          "text": [
            "6 6 6 6\n",
            "6 6 6 7\n",
            "6 6 6 8\n",
            "6 6 6 9\n",
            "6 6 7 6\n",
            "6 6 7 7\n",
            "6 6 7 8\n",
            "6 6 7 9\n",
            "6 6 8 6\n",
            "6 6 8 7\n",
            "6 6 8 8\n",
            "6 6 8 9\n",
            "6 6 9 6\n",
            "6 6 9 7\n",
            "6 6 9 8\n",
            "6 6 9 9\n",
            "6 7 6 6\n",
            "6 7 6 7\n",
            "6 7 6 8\n",
            "6 7 6 9\n",
            "6 7 7 6\n",
            "6 7 7 7\n",
            "6 7 7 8\n",
            "6 7 7 9\n",
            "6 7 8 6\n",
            "6 7 8 7\n",
            "6 7 8 8\n",
            "6 7 8 9\n",
            "6 7 9 6\n",
            "6 7 9 7\n",
            "6 7 9 8\n",
            "6 7 9 9\n",
            "6 8 6 6\n",
            "6 8 6 7\n",
            "6 8 6 8\n",
            "6 8 6 9\n",
            "6 8 7 6\n",
            "6 8 7 7\n",
            "6 8 7 8\n",
            "6 8 7 9\n",
            "6 8 8 6\n",
            "6 8 8 7\n",
            "6 8 8 8\n",
            "6 8 8 9\n",
            "6 8 9 6\n",
            "6 8 9 7\n",
            "6 8 9 8\n",
            "6 8 9 9\n",
            "6 9 6 6\n",
            "6 9 6 7\n",
            "6 9 6 8\n",
            "6 9 6 9\n",
            "6 9 7 6\n",
            "6 9 7 7\n",
            "6 9 7 8\n",
            "6 9 7 9\n",
            "6 9 8 6\n",
            "6 9 8 7\n",
            "6 9 8 8\n",
            "6 9 8 9\n",
            "6 9 9 6\n",
            "6 9 9 7\n",
            "6 9 9 8\n",
            "6 9 9 9\n",
            "7 6 6 6\n",
            "7 6 6 7\n",
            "7 6 6 8\n",
            "7 6 6 9\n",
            "7 6 7 6\n",
            "7 6 7 7\n",
            "7 6 7 8\n",
            "7 6 7 9\n",
            "7 6 8 6\n",
            "7 6 8 7\n",
            "7 6 8 8\n",
            "7 6 8 9\n",
            "7 6 9 6\n",
            "7 6 9 7\n",
            "7 6 9 8\n",
            "7 6 9 9\n",
            "7 7 6 6\n",
            "7 7 6 7\n",
            "7 7 6 8\n",
            "7 7 6 9\n",
            "7 7 7 6\n",
            "7 7 7 7\n",
            "7 7 7 8\n",
            "7 7 7 9\n",
            "7 7 8 6\n",
            "7 7 8 7\n",
            "7 7 8 8\n",
            "7 7 8 9\n",
            "7 7 9 6\n",
            "7 7 9 7\n",
            "7 7 9 8\n",
            "7 7 9 9\n",
            "7 8 6 6\n",
            "7 8 6 7\n",
            "7 8 6 8\n",
            "7 8 6 9\n",
            "7 8 7 6\n",
            "7 8 7 7\n",
            "7 8 7 8\n",
            "7 8 7 9\n",
            "7 8 8 6\n",
            "7 8 8 7\n",
            "7 8 8 8\n",
            "7 8 8 9\n",
            "7 8 9 6\n",
            "7 8 9 7\n",
            "7 8 9 8\n",
            "7 8 9 9\n",
            "7 9 6 6\n",
            "7 9 6 7\n",
            "7 9 6 8\n",
            "7 9 6 9\n",
            "7 9 7 6\n",
            "7 9 7 7\n",
            "7 9 7 8\n",
            "7 9 7 9\n",
            "7 9 8 6\n",
            "7 9 8 7\n",
            "7 9 8 8\n",
            "7 9 8 9\n",
            "7 9 9 6\n",
            "7 9 9 7\n",
            "7 9 9 8\n",
            "7 9 9 9\n",
            "8 6 6 6\n",
            "8 6 6 7\n",
            "8 6 6 8\n",
            "8 6 6 9\n",
            "8 6 7 6\n",
            "8 6 7 7\n",
            "8 6 7 8\n",
            "8 6 7 9\n",
            "8 6 8 6\n",
            "8 6 8 7\n",
            "8 6 8 8\n",
            "8 6 8 9\n",
            "8 6 9 6\n",
            "8 6 9 7\n",
            "8 6 9 8\n",
            "8 6 9 9\n",
            "8 7 6 6\n",
            "8 7 6 7\n",
            "8 7 6 8\n",
            "8 7 6 9\n",
            "8 7 7 6\n",
            "8 7 7 7\n",
            "8 7 7 8\n",
            "8 7 7 9\n",
            "8 7 8 6\n",
            "8 7 8 7\n",
            "8 7 8 8\n",
            "8 7 8 9\n",
            "8 7 9 6\n",
            "8 7 9 7\n",
            "8 7 9 8\n",
            "8 7 9 9\n",
            "8 8 6 6\n",
            "8 8 6 7\n",
            "8 8 6 8\n",
            "8 8 6 9\n",
            "8 8 7 6\n",
            "8 8 7 7\n",
            "8 8 7 8\n",
            "8 8 7 9\n",
            "8 8 8 6\n",
            "8 8 8 7\n",
            "8 8 8 8\n",
            "8 8 8 9\n",
            "8 8 9 6\n",
            "8 8 9 7\n",
            "8 8 9 8\n",
            "8 8 9 9\n",
            "8 9 6 6\n",
            "8 9 6 7\n",
            "8 9 6 8\n",
            "8 9 6 9\n",
            "8 9 7 6\n",
            "8 9 7 7\n",
            "8 9 7 8\n",
            "8 9 7 9\n",
            "8 9 8 6\n",
            "8 9 8 7\n",
            "8 9 8 8\n",
            "8 9 8 9\n",
            "8 9 9 6\n",
            "8 9 9 7\n",
            "8 9 9 8\n",
            "8 9 9 9\n",
            "9 6 6 6\n",
            "9 6 6 7\n",
            "9 6 6 8\n",
            "9 6 6 9\n",
            "9 6 7 6\n",
            "9 6 7 7\n",
            "9 6 7 8\n",
            "9 6 7 9\n",
            "9 6 8 6\n",
            "9 6 8 7\n",
            "9 6 8 8\n",
            "9 6 8 9\n",
            "9 6 9 6\n",
            "9 6 9 7\n",
            "9 6 9 8\n",
            "9 6 9 9\n",
            "9 7 6 6\n",
            "9 7 6 7\n",
            "9 7 6 8\n",
            "9 7 6 9\n",
            "9 7 7 6\n",
            "9 7 7 7\n",
            "9 7 7 8\n",
            "9 7 7 9\n",
            "9 7 8 6\n",
            "9 7 8 7\n",
            "9 7 8 8\n",
            "9 7 8 9\n",
            "9 7 9 6\n",
            "9 7 9 7\n",
            "9 7 9 8\n",
            "9 7 9 9\n",
            "9 8 6 6\n",
            "9 8 6 7\n",
            "9 8 6 8\n",
            "9 8 6 9\n",
            "9 8 7 6\n",
            "9 8 7 7\n",
            "9 8 7 8\n",
            "9 8 7 9\n",
            "9 8 8 6\n",
            "9 8 8 7\n",
            "9 8 8 8\n",
            "9 8 8 9\n",
            "9 8 9 6\n",
            "9 8 9 7\n",
            "9 8 9 8\n",
            "9 8 9 9\n",
            "9 9 6 6\n",
            "9 9 6 7\n",
            "9 9 6 8\n",
            "9 9 6 9\n",
            "9 9 7 6\n",
            "9 9 7 7\n",
            "9 9 7 8\n",
            "9 9 7 9\n",
            "9 9 8 6\n",
            "9 9 8 7\n",
            "9 9 8 8\n",
            "9 9 8 9\n",
            "9 9 9 6\n",
            "9 9 9 7\n",
            "9 9 9 8\n",
            "9 9 9 9\n"
          ]
        }
      ]
    },
    {
      "cell_type": "markdown",
      "source": [
        "User will provide 2 numbers you have to find the of those 2 numbers"
      ],
      "metadata": {
        "id": "mgubhRAtYqDi"
      }
    },
    {
      "cell_type": "code",
      "source": [
        "#The Highest Common Factor (HCF) of two numbers is the highest possible number which divides both the numbers completely.\n",
        "#suppose we have 18 (divisible by 1,2,3,6,9,18)\n",
        "# Function to find HCF the Using Euclidian algorithm\n",
        "def compute_hcf(x, y):\n",
        "   while(y):\n",
        "       x, y = y, x % y\n",
        "   return x\n",
        "\n",
        "hcf = compute_hcf(27, 18)\n",
        "print(\"The HCF is\", hcf)\n"
      ],
      "metadata": {
        "colab": {
          "base_uri": "https://localhost:8080/"
        },
        "id": "lH1YScxiYDf2",
        "outputId": "4dc5e631-abeb-43e0-c309-18ee1d50c812"
      },
      "execution_count": null,
      "outputs": [
        {
          "output_type": "stream",
          "name": "stdout",
          "text": [
            "The HCF is 9\n"
          ]
        }
      ]
    },
    {
      "cell_type": "markdown",
      "source": [
        "User will provide 2 numbers you have to find the by LCM of those 2 numbers"
      ],
      "metadata": {
        "id": "gdfojvNYCYAB"
      }
    },
    {
      "cell_type": "code",
      "source": [
        "def lcm(a,b):\n",
        "  if a>b:\n",
        "    max_num = a\n",
        "  else:\n",
        "    max_num = b\n",
        "  while True:\n",
        "    if((max_num%a==0) and (max_num%b == 0)):\n",
        "      print(\"the LCM of\", a , \"and\", b, \" is: \", max_num)\n",
        "      break\n",
        "    max_num += 1\n",
        "    \n",
        "a = int(input(\"Enter first number: \"))\n",
        "b = int(input(\"enter second number: \"))\n",
        "\n",
        "lcm(a,b)"
      ],
      "metadata": {
        "colab": {
          "base_uri": "https://localhost:8080/"
        },
        "id": "LPuQB2mcCZKh",
        "outputId": "a5d64afb-526e-49aa-e9c7-78955002acbc"
      },
      "execution_count": null,
      "outputs": [
        {
          "output_type": "stream",
          "name": "stdout",
          "text": [
            "Enter first number: 54\n",
            "enter second number: 24\n",
            "the LCM of 54 and 24  is:  216\n"
          ]
        }
      ]
    },
    {
      "cell_type": "markdown",
      "source": [
        "Print prime numbers"
      ],
      "metadata": {
        "id": "o2sDXOU-p10S"
      }
    },
    {
      "cell_type": "code",
      "source": [
        "n = int(input(\"Enter a number : \"))\n",
        "c = 2\n",
        "l = 25\n",
        "while l >= 25:\n",
        "  while n!=0:\n",
        "    for i in range(2,c):\n",
        "      if c%i==0:\n",
        "        break\n",
        "    else:  \n",
        "      print(c,end=\" \")\n",
        "      n-=1\n",
        "    c+=1\n",
        "  l-=1  "
      ],
      "metadata": {
        "id": "_igtxA07hzCo",
        "colab": {
          "base_uri": "https://localhost:8080/"
        },
        "outputId": "e507ce2b-6733-421b-a5e8-1552e80f2568"
      },
      "execution_count": 4,
      "outputs": [
        {
          "output_type": "stream",
          "name": "stdout",
          "text": [
            "Enter a number : 1000\n",
            "2 3 5 7 11 13 17 19 23 29 31 37 41 43 47 53 59 61 67 71 73 79 83 89 97 101 103 107 109 113 127 131 137 139 149 151 157 163 167 173 179 181 191 193 197 199 211 223 227 229 233 239 241 251 257 263 269 271 277 281 283 293 307 311 313 317 331 337 347 349 353 359 367 373 379 383 389 397 401 409 419 421 431 433 439 443 449 457 461 463 467 479 487 491 499 503 509 521 523 541 547 557 563 569 571 577 587 593 599 601 607 613 617 619 631 641 643 647 653 659 661 673 677 683 691 701 709 719 727 733 739 743 751 757 761 769 773 787 797 809 811 821 823 827 829 839 853 857 859 863 877 881 883 887 907 911 919 929 937 941 947 953 967 971 977 983 991 997 1009 1013 1019 1021 1031 1033 1039 1049 1051 1061 1063 1069 1087 1091 1093 1097 1103 1109 1117 1123 1129 1151 1153 1163 1171 1181 1187 1193 1201 1213 1217 1223 1229 1231 1237 1249 1259 1277 1279 1283 1289 1291 1297 1301 1303 1307 1319 1321 1327 1361 1367 1373 1381 1399 1409 1423 1427 1429 1433 1439 1447 1451 1453 1459 1471 1481 1483 1487 1489 1493 1499 1511 1523 1531 1543 1549 1553 1559 1567 1571 1579 1583 1597 1601 1607 1609 1613 1619 1621 1627 1637 1657 1663 1667 1669 1693 1697 1699 1709 1721 1723 1733 1741 1747 1753 1759 1777 1783 1787 1789 1801 1811 1823 1831 1847 1861 1867 1871 1873 1877 1879 1889 1901 1907 1913 1931 1933 1949 1951 1973 1979 1987 1993 1997 1999 2003 2011 2017 2027 2029 2039 2053 2063 2069 2081 2083 2087 2089 2099 2111 2113 2129 2131 2137 2141 2143 2153 2161 2179 2203 2207 2213 2221 2237 2239 2243 2251 2267 2269 2273 2281 2287 2293 2297 2309 2311 2333 2339 2341 2347 2351 2357 2371 2377 2381 2383 2389 2393 2399 2411 2417 2423 2437 2441 2447 2459 2467 2473 2477 2503 2521 2531 2539 2543 2549 2551 2557 2579 2591 2593 2609 2617 2621 2633 2647 2657 2659 2663 2671 2677 2683 2687 2689 2693 2699 2707 2711 2713 2719 2729 2731 2741 2749 2753 2767 2777 2789 2791 2797 2801 2803 2819 2833 2837 2843 2851 2857 2861 2879 2887 2897 2903 2909 2917 2927 2939 2953 2957 2963 2969 2971 2999 3001 3011 3019 3023 3037 3041 3049 3061 3067 3079 3083 3089 3109 3119 3121 3137 3163 3167 3169 3181 3187 3191 3203 3209 3217 3221 3229 3251 3253 3257 3259 3271 3299 3301 3307 3313 3319 3323 3329 3331 3343 3347 3359 3361 3371 3373 3389 3391 3407 3413 3433 3449 3457 3461 3463 3467 3469 3491 3499 3511 3517 3527 3529 3533 3539 3541 3547 3557 3559 3571 3581 3583 3593 3607 3613 3617 3623 3631 3637 3643 3659 3671 3673 3677 3691 3697 3701 3709 3719 3727 3733 3739 3761 3767 3769 3779 3793 3797 3803 3821 3823 3833 3847 3851 3853 3863 3877 3881 3889 3907 3911 3917 3919 3923 3929 3931 3943 3947 3967 3989 4001 4003 4007 4013 4019 4021 4027 4049 4051 4057 4073 4079 4091 4093 4099 4111 4127 4129 4133 4139 4153 4157 4159 4177 4201 4211 4217 4219 4229 4231 4241 4243 4253 4259 4261 4271 4273 4283 4289 4297 4327 4337 4339 4349 4357 4363 4373 4391 4397 4409 4421 4423 4441 4447 4451 4457 4463 4481 4483 4493 4507 4513 4517 4519 4523 4547 4549 4561 4567 4583 4591 4597 4603 4621 4637 4639 4643 4649 4651 4657 4663 4673 4679 4691 4703 4721 4723 4729 4733 4751 4759 4783 4787 4789 4793 4799 4801 4813 4817 4831 4861 4871 4877 4889 4903 4909 4919 4931 4933 4937 4943 4951 4957 4967 4969 4973 4987 4993 4999 5003 5009 5011 5021 5023 5039 5051 5059 5077 5081 5087 5099 5101 5107 5113 5119 5147 5153 5167 5171 5179 5189 5197 5209 5227 5231 5233 5237 5261 5273 5279 5281 5297 5303 5309 5323 5333 5347 5351 5381 5387 5393 5399 5407 5413 5417 5419 5431 5437 5441 5443 5449 5471 5477 5479 5483 5501 5503 5507 5519 5521 5527 5531 5557 5563 5569 5573 5581 5591 5623 5639 5641 5647 5651 5653 5657 5659 5669 5683 5689 5693 5701 5711 5717 5737 5741 5743 5749 5779 5783 5791 5801 5807 5813 5821 5827 5839 5843 5849 5851 5857 5861 5867 5869 5879 5881 5897 5903 5923 5927 5939 5953 5981 5987 6007 6011 6029 6037 6043 6047 6053 6067 6073 6079 6089 6091 6101 6113 6121 6131 6133 6143 6151 6163 6173 6197 6199 6203 6211 6217 6221 6229 6247 6257 6263 6269 6271 6277 6287 6299 6301 6311 6317 6323 6329 6337 6343 6353 6359 6361 6367 6373 6379 6389 6397 6421 6427 6449 6451 6469 6473 6481 6491 6521 6529 6547 6551 6553 6563 6569 6571 6577 6581 6599 6607 6619 6637 6653 6659 6661 6673 6679 6689 6691 6701 6703 6709 6719 6733 6737 6761 6763 6779 6781 6791 6793 6803 6823 6827 6829 6833 6841 6857 6863 6869 6871 6883 6899 6907 6911 6917 6947 6949 6959 6961 6967 6971 6977 6983 6991 6997 7001 7013 7019 7027 7039 7043 7057 7069 7079 7103 7109 7121 7127 7129 7151 7159 7177 7187 7193 7207 7211 7213 7219 7229 7237 7243 7247 7253 7283 7297 7307 7309 7321 7331 7333 7349 7351 7369 7393 7411 7417 7433 7451 7457 7459 7477 7481 7487 7489 7499 7507 7517 7523 7529 7537 7541 7547 7549 7559 7561 7573 7577 7583 7589 7591 7603 7607 7621 7639 7643 7649 7669 7673 7681 7687 7691 7699 7703 7717 7723 7727 7741 7753 7757 7759 7789 7793 7817 7823 7829 7841 7853 7867 7873 7877 7879 7883 7901 7907 7919 "
          ]
        }
      ]
    },
    {
      "cell_type": "markdown",
      "source": [
        "Print the first 20 numbers of a Fibonacci series"
      ],
      "metadata": {
        "id": "LGRoRbe8wbGH"
      }
    },
    {
      "cell_type": "code",
      "source": [
        ""
      ],
      "metadata": {
        "id": "AuiiM3Va9oww"
      },
      "execution_count": null,
      "outputs": []
    }
  ]
}